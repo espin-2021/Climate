{
 "cells": [
  {
   "cell_type": "markdown",
   "metadata": {},
   "source": [
    "<a href=\"https://csdms.colorado.edu/wiki/ESPIn2020\"><img style=\"float: center; width: 75%\" src=\"../espin/media/ESPIn.png\"></a>"
   ]
  },
  {
   "cell_type": "markdown",
   "metadata": {},
   "source": [
    "# Frost-Cracking 2D"
   ]
  },
  {
   "cell_type": "markdown",
   "metadata": {},
   "source": [
    "Our goal for this ESPIn final project was to set up a model to estimate frost-cracking intensities in two dimensional space throughout an example DEM. This involves solving the temperature diffusion equation in bedrock at discrete points throughout the DEM grid. To this end, we assume that heat is only transported through conduction and bedrock temperatures can therefore be assessed solving the diffusion equation with transient bedrock surface temperatures obtained from a paleoclimate model as the boundary condition. "
   ]
  },
  {
   "cell_type": "markdown",
   "metadata": {},
   "source": [
    "## Initializations"
   ]
  },
  {
   "cell_type": "markdown",
   "metadata": {},
   "source": [
    "First, we import the necessary modules:"
   ]
  },
  {
   "cell_type": "code",
   "execution_count": null,
   "metadata": {},
   "outputs": [],
   "source": [
    "import numpy as np\n",
    "from matplotlib import pyplot as plt\n",
    "from landlab import RasterModelGrid\n",
    "from landlab import imshow_grid\n",
    "import rasterio as rio\n",
    "import rasterio.plot\n",
    "from netCDF4 import Dataset\n",
    "from landlab.io.netcdf import read_netcdf\n",
    "from IPython import display"
   ]
  },
  {
   "cell_type": "markdown",
   "metadata": {},
   "source": [
    "Now we need to set up the computational grid. We will use a raster. `Lx` and `Ly` are the depth and height of the bedrock domain, respectively."
   ]
  },
  {
   "cell_type": "code",
   "execution_count": null,
   "metadata": {},
   "outputs": [],
   "source": [
    "rows = 10\n",
    "cols = 30\n",
    "dx = 100 # in m\n",
    "rg = RasterModelGrid((rows, cols), xy_spacing=dx)"
   ]
  },
  {
   "cell_type": "markdown",
   "metadata": {},
   "source": [
    "Assign fields."
   ]
  },
  {
   "cell_type": "code",
   "execution_count": null,
   "metadata": {},
   "outputs": [],
   "source": [
    "dem = rg.add_zeros('topographic__elevation', at='node')\n",
    "Ts_ini = rg.add_zeros('temperature_surface_ini', at='node')"
   ]
  },
  {
   "cell_type": "markdown",
   "metadata": {},
   "source": [
    "We will simply assume a vertical wall and assign a slope along the columns of `dem`."
   ]
  },
  {
   "cell_type": "code",
   "execution_count": null,
   "metadata": {
    "scrolled": true
   },
   "outputs": [],
   "source": [
    "slope = np.deg2rad(10) # degrees\n",
    "for i in range(rows):\n",
    "    dem[i*cols:(i+1)*cols] = i * dx\n",
    "\n",
    "dz = np.arange(0, np.sin(slope)*(dx*cols), np.sin(slope)*(dx*cols)/cols)\n",
    "for i in range(rows):\n",
    "    dem[i*cols:(i+1)*cols] += dz\n",
    "    \n",
    "imshow_grid(rg, 'topographic__elevation', colorbar_label='topographic__elevation (m)')"
   ]
  },
  {
   "cell_type": "markdown",
   "metadata": {},
   "source": [
    "The initial surface temperature `Ts_init` needs to be extrapolated. Assumptions:\n",
    " \n",
    " - `Ts`is sinusoidal\n",
    " - lapse rate `lr` = 6 °C/km.\n",
    " - Provide the temperature mean `Tm` and the amplitude `Ta` and the representative elevation `T_ele`"
   ]
  },
  {
   "cell_type": "code",
   "execution_count": null,
   "metadata": {},
   "outputs": [],
   "source": [
    "Tm = 5\n",
    "Ta = 10\n",
    "lr = 6\n",
    "T_ele = 700\n",
    "\n",
    "one_day = 60*60*24\n",
    "one_year = 365 * one_day\n",
    "timestep = 0.5 * 60*60 # 0.5 hours\n",
    "tend = 10 * one_year\n",
    "period = one_year\n",
    "t = np.arange(0, tend, timestep)\n",
    "\n",
    "Ts = Tm + Ta * np.sin(2*np.pi * t/period)\n",
    "plt.plot(t/one_year,Ts)"
   ]
  },
  {
   "cell_type": "code",
   "execution_count": null,
   "metadata": {},
   "outputs": [],
   "source": [
    "dz = dem - T_ele\n",
    "Ts_ini[:] = Tm - dz/1000 * lr\n",
    "imshow_grid(rg, 'temperature_surface_ini', colorbar_label='Ts_ini (°C)')"
   ]
  },
  {
   "cell_type": "markdown",
   "metadata": {},
   "source": [
    "## The Frost-cracking model"
   ]
  },
  {
   "cell_type": "markdown",
   "metadata": {},
   "source": [
    "First, we set up the model. This is based on the lab [Simulation of ground temperature profile evolution](https://csdms.rc.colorado.edu/user/jhirschberg/notebooks/learning-with-1d-models/ground_temperature_profile.ipynb)."
   ]
  },
  {
   "cell_type": "code",
   "execution_count": null,
   "metadata": {},
   "outputs": [],
   "source": [
    "class FROST_CRACK_2D():\n",
    "    \n",
    "    def __init__(self,\n",
    "                 path_temp_file,\n",
    "                 grid_cols=30,\n",
    "                 grid_rows=10,\n",
    "                 grid_dx=100,\n",
    "                 grid_slope=10,\n",
    "                 use_dem = True,\n",
    "                 dem_path = '',\n",
    "                 temp_lapse_rate = -0.006,\n",
    "                 thermal_diffusivity=1.0e-6,\n",
    "                 profile_depth=10.0,\n",
    "                 geotherm=0.025,\n",
    "                 num_nodes=101,\n",
    "                 lat=78.2232,\n",
    "                 lon=15.6267\n",
    "                ):\n",
    "        \"\"\"Initialize the HeatConductionSimulator.\n",
    "\n",
    "        Parameters\n",
    "        ----------\n",
    "        path_temp_file: string\n",
    "            path to netcdf file with temperature\n",
    "        surface_temp: float\n",
    "            Time series of temperature, degrees C\n",
    "        time: float\n",
    "            Time array, seconds\n",
    "        thermal_diffusivity: float\n",
    "            Thermal diffusivity, in m2/s (default 10^-6)\n",
    "        profile_depth: float\n",
    "            Depth of profile, m (default 1 m)\n",
    "        geotherm: float\n",
    "            Background geothermal gradient (default 0.025 deg C / m)\n",
    "        num_nodes: int\n",
    "            Number of nodes (default 101)\n",
    "        diffusion_number: float\n",
    "            Dimensionless diffusion number = D dt / dz^2 (default 0.2)\n",
    "        \"\"\"\n",
    "        \n",
    "        \n",
    "        \n",
    "        \n",
    "        \n",
    "        \n",
    "        ######## TEMPORARY\n",
    "#         Tm = 5\n",
    "#         Ta = 10\n",
    "#         lr = 6\n",
    "#         T_ele = 700\n",
    "\n",
    "#         one_day = 60*60*24\n",
    "#         one_year = 365 * one_day\n",
    "#         timestep = 0.5 * 60*60 # 0.5 hours\n",
    "#         tend = 10 * one_year\n",
    "#         period = one_year\n",
    "#         t = np.arange(0, tend, timestep)\n",
    "#         Ts = Tm + Ta * np.sin(2*np.pi * t/period)\n",
    "        \n",
    "        #########\n",
    "        \n",
    "        ### SETUP GRID\n",
    "        if use_dem:\n",
    "            # load dem with path\n",
    "            dem_file = rio.open(dem_path) \n",
    "            dem_data = dem_file.read()\n",
    "            dem_data[dem_data<-100] = np.nanmean(dem_data) # filling gaps\n",
    "            dem_shape = dem_data.shape\n",
    "            self.grid_rows = dem_shape[1]\n",
    "            self.grid_cols = dem_shape[2]\n",
    "            rg = RasterModelGrid((self.grid_rows, self.grid_cols), xy_spacing=grid_dx)\n",
    "            self.elevation = dem_data[0]\n",
    "            self.grid = rg\n",
    "            self.T_ele = np.mean(dem_data) # \n",
    "            \n",
    "            \n",
    "        else:\n",
    "            rg = RasterModelGrid((grid_rows, grid_cols), xy_spacing=grid_dx)\n",
    "            \n",
    "            slope = np.deg2rad(grid_slope) # degrees\n",
    "            for i in range(rows):\n",
    "                dem[i*cols:(i+1)*cols] = i * dx\n",
    "\n",
    "            dz = np.arange(0, np.sin(slope)*(dx*cols), np.sin(slope)*(dx*cols)/cols)\n",
    "            for i in range(rows):\n",
    "                dem[i*cols:(i+1)*cols] += dz\n",
    "                    \n",
    "            dem = rg.add_zeros('topographic__elevation', at='node')\n",
    "            Ts_boundary = rg.add_zeros('temperature_surface_boundary', at='node')\n",
    "            \n",
    "            self.grid_rows = grid_rows\n",
    "            self.grid_cols = grid_cols\n",
    "            self.grid_dx = grid_dx\n",
    "            self.grid_slope = grid_slope\n",
    "            self.dem = dem\n",
    "            self.Ts_boundary = Ts_boundary\n",
    "            self.grid = rg\n",
    "            \n",
    "        ### LOAD NETCDF FILE\n",
    "        \n",
    "        #ts_file = Dataset('data/ts_Eday_MPI-ESM1-2-LR_lgm_r1i1p1f1_gn_18500101-18691231.nc')\n",
    "        ts_file = Dataset(path_temp_file)\n",
    "        ts_lat = np.argmin(np.abs(ts_file.variables['lat'][:] - lat))\n",
    "        ts_lon = np.argmin(np.abs(ts_file.variables['lon'][:] - (360 + lon)))\n",
    "       \n",
    "        t = ts_file.variables['time'][:] # time\n",
    "        self.Ts_org = ts_file.variables['ts'][:, ts_lat, ts_lon] # surface temp\n",
    "    \n",
    "        self.Ts_org -= 273.15\n",
    "        \n",
    "        # interpolate\n",
    "        # it is now in days since ...\n",
    "        self.t_org_unit = ts_file.variables['time'].units\n",
    "        self.t_org_start = ts_file.variables['time'][0]\n",
    "        t = (t - t[0])*24*60*60 # make it start from 0\n",
    "        tnew = np.arange(0,t[-1],3600) # hourly time step\n",
    "        Ts_new = np.interp(tnew, t, self.Ts_org)\n",
    "        self.Ts = Ts_new\n",
    "        \n",
    "        #### Set depth and time steps\n",
    "        \n",
    "        self.time = tnew\n",
    "        self.dz = profile_depth / (num_nodes - 1)\n",
    "        self.timestep_duration_should = self.dz * self.dz /(2*thermal_diffusivity) # Von Neumann stability\n",
    "        self.timestep_duration_is = self.time[1]-self.time[0]\n",
    "        assert self.timestep_duration_should > self.timestep_duration_is\n",
    "        \n",
    "        # scale temperature with elevation\n",
    "        self.temp_lapse_rate = temp_lapse_rate\n",
    "        #self.Ts0 = self.Ts[0]\n",
    "        self.Ts_ini = np.mean(self.Ts) # take the mean for initialization\n",
    "        Ts0_ele = self.Ts_ini + self.temp_lapse_rate*(self.elevation - self.T_ele)\n",
    "        self.Ts0_ele = np.repeat(Ts0_ele[:, :, np.newaxis], num_nodes, axis=2)\n",
    "        \n",
    "        # calculate temp along geothermal gradient\n",
    "        self.depth = np.linspace(0, profile_depth, num_nodes)\n",
    "        geotherm_grad = geotherm * self.depth\n",
    "        geotherm_matrix = np.tile(geotherm_grad, (self.grid_rows, self.grid_cols, 1))\n",
    "        \n",
    "        self.temp = self.Ts0_ele + geotherm_matrix\n",
    "        \n",
    "        self.frostcrackA = np.zeros_like(self.temp)\n",
    "        self.frostcrackHR = np.zeros_like(self.temp)\n",
    "        \n",
    "       # self.temp = Ts[0] + geotherm * self.depth # this is the initial temperature profile\n",
    "        self.geotherm = geotherm\n",
    "        self.thermal_diffusivity = thermal_diffusivity\n",
    "        self.num_nodes = num_nodes\n",
    "        self.current_time = 0.0\n",
    "        self.current_timestep = 0\n",
    "        self.max_act_layer_depth = 0.0\n",
    "            \n",
    "    def interp_Ts(self):\n",
    "        dz = self.dem - self.Ts0_ele\n",
    "        self.Ts_boundary[:] = Tm - dz/1000 * lr\n",
    "        pass\n",
    "        # Allie did this above.\n",
    "        \n",
    "    def run_one_step(self):\n",
    "        \"\"\"Advance for one time step\"\"\"\n",
    "        x, y = 500, 400 # only one cell because so slow, this is random, we use the original temp\n",
    "        if self.current_timestep==0:\n",
    "            self.temp[x,y,:] = np.mean(self.Ts_org) + self.geotherm * self.depth\n",
    "        \n",
    "        # assign boundary condition\n",
    "        self.Ts_ini = self.Ts[self.current_timestep] # take the mean for initialization\n",
    "        #Ts0_ele = self.Ts_ini + self.temp_lapse_rate*(self.elevation - self.T_ele)\n",
    "        #self.Ts0_ele = np.repeat(Ts0_ele[:, :, np.newaxis], self.num_nodes, axis=2)\n",
    "        self.temp[x,y,0] = self.Ts_ini\n",
    "        \n",
    "        q = -self.thermal_diffusivity * np.diff(self.temp[x,y,:])/self.dz\n",
    "        #self.temp[:,:,1:-1] = self.temp[:,:,1:-1] - self.timestep_duration_is*np.diff(q)/self.dz\n",
    "        self.temp[x,y,1:-1] = self.temp[x,y,1:-1] - self.timestep_duration_is*np.diff(q)/self.dz\n",
    "        \n",
    "        #self.temp[0] = self.surface_temp[self.current_timestep]\n",
    "        #q = -self.thermal_diffusivity * np.diff(self.temp)/self.dz\n",
    "        #self.temp[1:-1] = self.temp[1:-1] - self.timestep_duration_is*np.diff(q)/self.dz  \n",
    "        self.current_time += self.timestep_duration_is\n",
    "        self.current_timestep += 1\n",
    "        \n",
    "        cond1 = self.temp[x,y,:] > -8\n",
    "        cond2 = self.temp[x,y,:] < -3\n",
    "        self.frostcrackA[x,y,:][cond1 & cond2] += 1/(3600*24*365)\n",
    "        \n",
    "        self.x=x\n",
    "        self.y=y\n",
    "        \n",
    "    def calculate_frost_cracking_depth_Anderson(self):\n",
    "        for node in range(self.grid.number_of_nodes):\n",
    "            pass\n",
    "        # 1) following Anderson (1998)\n",
    "        # time spent in the frost cracking window\n",
    "        \n",
    "        # for now only one cell\n",
    "        \n",
    "        \n",
    "        \n",
    "    def calculate_frost_cracking_depth_Hales_Roering(self):\n",
    "        for node in range(self.grid.number_of_nodes):\n",
    "            pass\n",
    "        # 2) following Hales & Roering (2007)"
   ]
  },
  {
   "cell_type": "code",
   "execution_count": null,
   "metadata": {},
   "outputs": [],
   "source": [
    "#path_temp_file = 'data/ts_Eday_MPI-ESM1-2-LR_lgm_r1i1p1f1_gn_18500101-18691231.nc'\n",
    "fc = FROST_CRACK_2D(path_temp_file = 'data/ts_Amon_MIROC-ES2L_lgm_r1i1p1f2_gn_320001-329912.nc',\n",
    "                   dem_path = 'data/brooks_range_dem')"
   ]
  },
  {
   "cell_type": "code",
   "execution_count": null,
   "metadata": {},
   "outputs": [],
   "source": [
    "plt.plot(fc.Ts)\n",
    "plt.xlabel('PMIP Simulation Time (years)')\n",
    "plt.ylabel('Temperature (°C)')"
   ]
  },
  {
   "cell_type": "code",
   "execution_count": null,
   "metadata": {
    "scrolled": true
   },
   "outputs": [],
   "source": [
    "while fc.current_timestep < len(fc.Ts):\n",
    "    #print(fc.current_timestep)\n",
    "    if fc.current_time%(8760*60*60/12)==0:\n",
    "        plt.plot(fc.temp[500,400,:], -fc.depth, lw=.3, alpha=.5, c='darkred', label='Temp')\n",
    "        plt.fill_between([-3,-8], 0, -10, color='lightblue', label='Frost-cracking window')\n",
    "        plt.ylabel('Depth (m)')\n",
    "        plt.xlabel('Temperature (°C)')\n",
    "        plt.title('time: %.2f years'%(fc.current_time/(8760*60*60)))\n",
    "        \n",
    "        display.clear_output(wait=True)\n",
    "        display.display(plt.gcf())\n",
    "    \n",
    "    fc.run_one_step()"
   ]
  },
  {
   "cell_type": "code",
   "execution_count": null,
   "metadata": {},
   "outputs": [],
   "source": [
    "plt.plot(fc.frostcrackA[500,400,:], fc.depth, color='darkblue')\n",
    "plt.gca().invert_yaxis()\n",
    "plt.title('Frost-cracking index')\n",
    "plt.xlabel('FCI')\n",
    "plt.ylabel('Depth (m)')"
   ]
  },
  {
   "cell_type": "code",
   "execution_count": null,
   "metadata": {},
   "outputs": [],
   "source": [
    "plt.imshow(fc.elevation)\n",
    "plt.colorbar()\n",
    "plt.title('Elevation (m)')\n",
    "plt.xlabel('X')\n",
    "plt.ylabel('Y')\n",
    "plt.show"
   ]
  },
  {
   "cell_type": "code",
   "execution_count": null,
   "metadata": {},
   "outputs": [],
   "source": [
    "plt.imshow(fc.temp[:,:,0])\n",
    "plt.colorbar()\n",
    "plt.title('Initial Temperature at Surface (°C)')\n",
    "plt.xlabel('X')\n",
    "plt.ylabel('Y')\n",
    "plt.show"
   ]
  },
  {
   "cell_type": "code",
   "execution_count": null,
   "metadata": {},
   "outputs": [],
   "source": [
    "diff_top_bottom = fc.temp[:,:,0] - fc.temp[:,:,-1]\n",
    "\n",
    "plt.imshow(diff_top_bottom)\n",
    "plt.colorbar()\n",
    "plt.title('Difference between surface and bottom temp (°C)')\n",
    "plt.xlabel('X')\n",
    "plt.ylabel('Y')\n",
    "plt.show"
   ]
  },
  {
   "cell_type": "code",
   "execution_count": null,
   "metadata": {},
   "outputs": [],
   "source": [
    "plt.plot(fc.temp[300, 600, :], -fc.depth)\n",
    "plt.title('Example Initial Temp Profile (°C)')\n",
    "plt.xlabel('X')\n",
    "plt.ylabel('Y')\n",
    "plt.show"
   ]
  },
  {
   "cell_type": "code",
   "execution_count": null,
   "metadata": {},
   "outputs": [],
   "source": []
  }
 ],
 "metadata": {
  "kernelspec": {
   "display_name": "Python 3",
   "language": "python",
   "name": "python3"
  },
  "language_info": {
   "codemirror_mode": {
    "name": "ipython",
    "version": 3
   },
   "file_extension": ".py",
   "mimetype": "text/x-python",
   "name": "python",
   "nbconvert_exporter": "python",
   "pygments_lexer": "ipython3",
   "version": "3.9.4"
  }
 },
 "nbformat": 4,
 "nbformat_minor": 2
}
